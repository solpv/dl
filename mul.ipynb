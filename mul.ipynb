{
 "cells": [
  {
   "cell_type": "code",
   "execution_count": 1,
   "id": "3757301d",
   "metadata": {},
   "outputs": [],
   "source": [
    "import pandas as pd\n",
    "import numpy as np\n",
    "from sklearn.model_selection import train_test_split\n",
    "from sklearn.preprocessing import LabelEncoder\n",
    "from sklearn.metrics import classification_report\n",
    "import tensorflow as tf\n",
    "from tensorflow.keras import layers, models\n",
    "\n",
    "\n",
    "\n",
    "\n",
    "\n",
    "\n",
    "\n",
    "\n",
    "\n",
    "\n"
   ]
  },
  {
   "cell_type": "code",
   "execution_count": 2,
   "id": "42178801",
   "metadata": {},
   "outputs": [],
   "source": [
    "url = \"https://archive.ics.uci.edu/ml/machine-learning-databases/letter-recognition/letter-recognition.data\"\n",
    "column_names = ['letter', 'x-box', 'y-box', 'width', 'high', 'onpix', 'x-bar', 'y-bar', 'x2bar', 'y2bar', 'xybar', 'x2ybr', 'xy2br', 'x-ege', 'xegvy', 'y-ege', 'yegvx']\n",
    "df = pd.read_csv(url, names=column_names)"
   ]
  },
  {
   "cell_type": "code",
   "execution_count": 3,
   "id": "8e3c8744",
   "metadata": {},
   "outputs": [],
   "source": [
    "X = df.drop('letter', axis=1)\n",
    "y = df['letter']\n"
   ]
  },
  {
   "cell_type": "code",
   "execution_count": 4,
   "id": "0c6be878",
   "metadata": {},
   "outputs": [],
   "source": [
    "label_encoder = LabelEncoder()\n",
    "y = label_encoder.fit_transform(y)\n"
   ]
  },
  {
   "cell_type": "code",
   "execution_count": 5,
   "id": "4e56d8b0",
   "metadata": {},
   "outputs": [],
   "source": [
    "X_train, X_test, y_train, y_test = train_test_split(X, y, test_size=0.2, random_state=42)\n"
   ]
  },
  {
   "cell_type": "code",
   "execution_count": 6,
   "id": "a777c491",
   "metadata": {},
   "outputs": [],
   "source": [
    "model = models.Sequential([\n",
    "    layers.Dense(128, activation='relu', input_shape=(X_train.shape[1],)),\n",
    "    layers.Dropout(0.2),\n",
    "    layers.Dense(64, activation='relu'),\n",
    "    layers.Dropout(0.2),\n",
    "    layers.Dense(26, activation='softmax')\n",
    "])"
   ]
  },
  {
   "cell_type": "code",
   "execution_count": 7,
   "id": "46611dda",
   "metadata": {},
   "outputs": [],
   "source": [
    "model.compile(optimizer='adam', loss='sparse_categorical_crossentropy', metrics=['accuracy'])"
   ]
  },
  {
   "cell_type": "code",
   "execution_count": 8,
   "id": "ce0468a2",
   "metadata": {},
   "outputs": [
    {
     "name": "stdout",
     "output_type": "stream",
     "text": [
      "Epoch 1/20\n",
      "400/400 [==============================] - 16s 17ms/step - loss: 2.3029 - accuracy: 0.3306 - val_loss: 1.2380 - val_accuracy: 0.6797\n",
      "Epoch 2/20\n",
      "400/400 [==============================] - 4s 11ms/step - loss: 1.3136 - accuracy: 0.6014 - val_loss: 0.9510 - val_accuracy: 0.7337\n",
      "Epoch 3/20\n",
      "400/400 [==============================] - 5s 11ms/step - loss: 1.0864 - accuracy: 0.6629 - val_loss: 0.8022 - val_accuracy: 0.7763\n",
      "Epoch 4/20\n",
      "400/400 [==============================] - 4s 11ms/step - loss: 0.9516 - accuracy: 0.7002 - val_loss: 0.7211 - val_accuracy: 0.7994\n",
      "Epoch 5/20\n",
      "400/400 [==============================] - 4s 11ms/step - loss: 0.8782 - accuracy: 0.7259 - val_loss: 0.6498 - val_accuracy: 0.8087\n",
      "Epoch 6/20\n",
      "400/400 [==============================] - 4s 11ms/step - loss: 0.8051 - accuracy: 0.7437 - val_loss: 0.5836 - val_accuracy: 0.8316\n",
      "Epoch 7/20\n",
      "400/400 [==============================] - 4s 10ms/step - loss: 0.7628 - accuracy: 0.7592 - val_loss: 0.5464 - val_accuracy: 0.8369\n",
      "Epoch 8/20\n",
      "400/400 [==============================] - 4s 10ms/step - loss: 0.7182 - accuracy: 0.7745 - val_loss: 0.5175 - val_accuracy: 0.8481\n",
      "Epoch 9/20\n",
      "400/400 [==============================] - 3s 7ms/step - loss: 0.6840 - accuracy: 0.7841 - val_loss: 0.4969 - val_accuracy: 0.8481\n",
      "Epoch 10/20\n",
      "400/400 [==============================] - 3s 8ms/step - loss: 0.6510 - accuracy: 0.7958 - val_loss: 0.4565 - val_accuracy: 0.8672\n",
      "Epoch 11/20\n",
      "400/400 [==============================] - 4s 10ms/step - loss: 0.6198 - accuracy: 0.7980 - val_loss: 0.4423 - val_accuracy: 0.8703\n",
      "Epoch 12/20\n",
      "400/400 [==============================] - 5s 11ms/step - loss: 0.6062 - accuracy: 0.8069 - val_loss: 0.4258 - val_accuracy: 0.8756\n",
      "Epoch 13/20\n",
      "400/400 [==============================] - 4s 10ms/step - loss: 0.5762 - accuracy: 0.8098 - val_loss: 0.4110 - val_accuracy: 0.8759\n",
      "Epoch 14/20\n",
      "400/400 [==============================] - 4s 11ms/step - loss: 0.5767 - accuracy: 0.8156 - val_loss: 0.3956 - val_accuracy: 0.8800\n",
      "Epoch 15/20\n",
      "400/400 [==============================] - 4s 10ms/step - loss: 0.5555 - accuracy: 0.8181 - val_loss: 0.3802 - val_accuracy: 0.8819\n",
      "Epoch 16/20\n",
      "400/400 [==============================] - 4s 10ms/step - loss: 0.5439 - accuracy: 0.8234 - val_loss: 0.3596 - val_accuracy: 0.8950\n",
      "Epoch 17/20\n",
      "400/400 [==============================] - 4s 10ms/step - loss: 0.5291 - accuracy: 0.8278 - val_loss: 0.3666 - val_accuracy: 0.8841\n",
      "Epoch 18/20\n",
      "400/400 [==============================] - 4s 11ms/step - loss: 0.5083 - accuracy: 0.8364 - val_loss: 0.3387 - val_accuracy: 0.8956\n",
      "Epoch 19/20\n",
      "400/400 [==============================] - 4s 11ms/step - loss: 0.4973 - accuracy: 0.8385 - val_loss: 0.3359 - val_accuracy: 0.8969\n",
      "Epoch 20/20\n",
      "400/400 [==============================] - 4s 10ms/step - loss: 0.4932 - accuracy: 0.8398 - val_loss: 0.3257 - val_accuracy: 0.9022\n"
     ]
    }
   ],
   "source": [
    "history = model.fit(X_train, y_train, epochs=20, batch_size=32, validation_split=0.2)\n",
    "\n"
   ]
  },
  {
   "cell_type": "code",
   "execution_count": 9,
   "id": "875ed558",
   "metadata": {},
   "outputs": [
    {
     "name": "stdout",
     "output_type": "stream",
     "text": [
      "125/125 [==============================] - 1s 7ms/step - loss: 0.3212 - accuracy: 0.9025\n",
      "Test accuracy: 0.9024999737739563\n"
     ]
    }
   ],
   "source": [
    "test_loss, test_acc = model.evaluate(X_test, y_test)\n",
    "print(f'Test accuracy: {test_acc}')\n",
    "\n",
    "\n"
   ]
  },
  {
   "cell_type": "code",
   "execution_count": 10,
   "id": "a892201f",
   "metadata": {},
   "outputs": [
    {
     "name": "stdout",
     "output_type": "stream",
     "text": [
      "125/125 [==============================] - 2s 6ms/step\n"
     ]
    }
   ],
   "source": [
    "y_pred = model.predict(X_test)\n",
    "y_pred_classes = np.argmax(y_pred, axis=1)"
   ]
  },
  {
   "cell_type": "code",
   "execution_count": 11,
   "id": "a5222872",
   "metadata": {},
   "outputs": [],
   "source": [
    "\n",
    "\n",
    "y_test_labels = label_encoder.inverse_transform(y_test)\n",
    "y_pred_labels = label_encoder.inverse_transform(y_pred_classes)\n",
    "\n"
   ]
  },
  {
   "cell_type": "code",
   "execution_count": 12,
   "id": "f521b70e",
   "metadata": {},
   "outputs": [
    {
     "name": "stdout",
     "output_type": "stream",
     "text": [
      "              precision    recall  f1-score   support\n",
      "\n",
      "           A       0.97      0.97      0.97       149\n",
      "           B       0.81      0.92      0.86       153\n",
      "           C       0.97      0.91      0.94       137\n",
      "           D       0.85      0.90      0.88       156\n",
      "           E       0.81      0.94      0.87       141\n",
      "           F       0.82      0.90      0.86       140\n",
      "           G       0.87      0.90      0.88       160\n",
      "           H       0.86      0.81      0.83       144\n",
      "           I       0.96      0.86      0.91       146\n",
      "           J       0.93      0.88      0.90       149\n",
      "           K       0.82      0.85      0.83       130\n",
      "           L       0.95      0.92      0.93       155\n",
      "           M       0.96      0.93      0.95       168\n",
      "           N       0.97      0.88      0.92       151\n",
      "           O       0.90      0.87      0.88       145\n",
      "           P       0.99      0.87      0.93       173\n",
      "           Q       0.96      0.94      0.95       166\n",
      "           R       0.78      0.93      0.85       160\n",
      "           S       0.92      0.87      0.89       171\n",
      "           T       0.92      0.91      0.92       163\n",
      "           U       0.93      0.93      0.93       183\n",
      "           V       0.94      0.94      0.94       158\n",
      "           W       0.86      0.97      0.91       148\n",
      "           X       0.88      0.93      0.90       154\n",
      "           Y       0.95      0.86      0.90       168\n",
      "           Z       0.95      0.87      0.91       132\n",
      "\n",
      "    accuracy                           0.90      4000\n",
      "   macro avg       0.91      0.90      0.90      4000\n",
      "weighted avg       0.91      0.90      0.90      4000\n",
      "\n"
     ]
    }
   ],
   "source": [
    "print(classification_report(y_test_labels, y_pred_labels))"
   ]
  }
 ],
 "metadata": {
  "kernelspec": {
   "display_name": "Python 3 (ipykernel)",
   "language": "python",
   "name": "python3"
  },
  "language_info": {
   "codemirror_mode": {
    "name": "ipython",
    "version": 3
   },
   "file_extension": ".py",
   "mimetype": "text/x-python",
   "name": "python",
   "nbconvert_exporter": "python",
   "pygments_lexer": "ipython3",
   "version": "3.10.9"
  }
 },
 "nbformat": 4,
 "nbformat_minor": 5
}
